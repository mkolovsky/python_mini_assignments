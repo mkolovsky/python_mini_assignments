{
  "nbformat": 4,
  "nbformat_minor": 0,
  "metadata": {
    "colab": {
      "provenance": []
    },
    "kernelspec": {
      "name": "python3",
      "display_name": "Python 3"
    }
  },
  "cells": [
    {
      "cell_type": "markdown",
      "metadata": {
        "id": "FNKvy8F7d9gu"
      },
      "source": [
        "#Mini Assignment 5. Class & Object\n",
        "Please add one code cell after each question and create a program to answer the question. Make sure your code runs without error. After you are finished, click on File -> Print -> Save as PDF to create a PDF output and upload it on Brightspace.\n",
        "\n",
        "NOTE: Make sure your PDF does not have your name or any identifying information in the name or content of the file. Anonymity is essential for the peer-review process."
      ]
    },
    {
      "cell_type": "markdown",
      "source": [
        "## Bank Account Problem\n",
        "* Create a Python class called BankAccount which represents a bank account, having as attributes: accountNumber (numeric type), name (name of the account owner as string type), balance.\n",
        "* Create a constructor method with parameters: accountNumber, name, balance.\n",
        "* Create a deposit() method which manages the deposit actions. It receives the deposit amount as a parameter and updates the balance attribute.\n",
        "* Create a withdrawal() method  which manages withdrawals actions. It should check the withdrawal to be less than the balance. If so, it should update the balance with the new amount.\n",
        "* Create an bankfees() method to apply the bank fees with a percentage of 5% of the balance account. Every time this method is called, it should update the account balance to reflect the bank fee charge.\n",
        "* Create a display() method to display account details.\n",
        "* Create an object of the BankAccount class, and apply all the above methods to make sure they work correctly."
      ],
      "metadata": {
        "id": "Tqgb86puKb14"
      }
    },
    {
      "cell_type": "code",
      "source": [
        "class  BankAccount:\n",
        "  #constructor\n",
        "  def __init__(self, accountNumber, name, balance):\n",
        "    self.accountNumber = accountNumber\n",
        "    self.name = name\n",
        "    self.balance = balance\n",
        "  #deposit\n",
        "  def deposit(self, deposit):\n",
        "    self.balance += deposit\n",
        "    print(f\"You deposited {deposit}. Your new balance is {self.balance}.\")\n",
        "  #withdrawal\n",
        "  def withdrawal(self, withdrawal):\n",
        "    if withdrawal <= self.balance:\n",
        "        self.balance -= withdrawal\n",
        "        print(f\"You withdrew {withdrawal}. New balance is {self.balance}.\")\n",
        "    else:\n",
        "        print(f\"You have insufficient balance. The withdrawal amount of {withdrawal} exceeds current balance of {self.balance}. Please deposit more funds into account.\")\n",
        "  #bank_fees\n",
        "  def bank_fees(self):\n",
        "    bank_fee = self.balance * 0.05\n",
        "    self.balance -= bank_fee\n",
        "    print(f\"We have applied a bank fee of {bank_fee}. Your new balance is {self.balance}.\")\n",
        "  def display(self):\n",
        "    print(f\"Your account number is {self.accountNumber}, your name is {self.name}, your balance is {self.balance}\")\n",
        "\n",
        "#object account1\n",
        "account1 = BankAccount(1000123, \"Lazlow Karol\", 10000)\n",
        "\n",
        "account1.deposit(2500)\n",
        "account1.withdrawal(30000)\n",
        "account1.withdrawal(200)\n",
        "account1.bank_fees()\n",
        "account1.display()"
      ],
      "metadata": {
        "colab": {
          "base_uri": "https://localhost:8080/"
        },
        "id": "aYm9RwiufxAy",
        "outputId": "92eb3f2c-0b1b-4757-ef12-49d62e9d2dbf"
      },
      "execution_count": null,
      "outputs": [
        {
          "output_type": "stream",
          "name": "stdout",
          "text": [
            "You deposited 2500. Your new balance is 12500.\n",
            "You have insufficient balance. The withdrawal amount of 30000 exceeds current balance of 12500. Please deposit more funds into account.\n",
            "You withdrew 200. New balance is 12300.\n",
            "We have applied a bank fee of 615.0. Your new balance is 11685.0.\n",
            "Your account number is 1000123, your name is Lazlow Karol, your balance is 11685.0\n"
          ]
        }
      ]
    },
    {
      "cell_type": "markdown",
      "source": [
        "## Class List Problem\n",
        "* Create a Python class called ClassList which represents a list of students in a class, having as attributes course name (string type), course number (string type), section number (number type), student names (list type) and student grades (list type).\n",
        "* Create a constructor method with parameters: course_name, course_number, section_num, student_names, and student_grades\n",
        "* Create a student_add() method which receives the name and grade of a new student and adds it to the student list.\n",
        "* Create a grade_summary() method which displays the class grade average, minimum, and maximum.\n",
        "* Create a top_student() method which displays the name of the student with the highest grade.\n",
        "* Create a grade_update() method that receives the name of the student and their new grade, and updates their grade.\n"
      ],
      "metadata": {
        "id": "WEC5tTt-LRLm"
      }
    },
    {
      "cell_type": "code",
      "source": [
        "class ClassList:\n",
        "    # Constructor\n",
        "    def __init__(self, course_name, course_number, section_num, student_names=None, student_grades=None):\n",
        "        self.course_name = course_name\n",
        "        self.course_number = course_number\n",
        "        self.section_num = section_num\n",
        "        self.student_names = []\n",
        "        self.student_grades = []\n",
        "\n",
        "        # Initialize lists with provided student names and grades if any\n",
        "        if student_names is not None and student_grades is not None and len(student_names) == len(student_grades):\n",
        "            for name, grade in zip(student_names, student_grades):\n",
        "                self.student_add(name, grade)\n",
        "\n",
        "    # Add a student and grade\n",
        "    def student_add(self, name, grade):\n",
        "        self.student_names.append(name)\n",
        "        self.student_grades.append(grade)\n",
        "        print(f'You added {name} with a grade of {grade} to the student list.')\n",
        "\n",
        "    # Class average, min, max\n",
        "    def grade_summary(self):\n",
        "        class_average = sum(self.student_grades) / len(self.student_grades)\n",
        "        class_min = min(self.student_grades)\n",
        "        class_max = max(self.student_grades)\n",
        "        print(f\"The average of the student grades is {class_average:.2f}, the minimum grade is {class_min}, the maximum grade is {class_max}.\")\n",
        "\n",
        "    # Top student\n",
        "    def top_student(self):\n",
        "        class_max = max(self.student_grades)\n",
        "        top_students = [name for name, grade in zip(self.student_names, self.student_grades) if grade == class_max]\n",
        "        print(f\"The top student(s): {', '.join(top_students)} with a grade of {class_max}.\")\n",
        "        return class_max, top_students\n",
        "\n",
        "    # Grade update\n",
        "    def grade_update(self, name, grade):\n",
        "        if name in self.student_names:\n",
        "            index = self.student_names.index(name)\n",
        "            self.student_grades[index] = grade\n",
        "            print(f'Updated {name}\\'s grade to {grade}.')\n",
        "        else:\n",
        "            print(f'Student {name} not found in the list.')\n",
        "\n",
        "# Example object\n",
        "class_list = ClassList(\"Python 101\", \"5020\", 2, [\"Annie\"], [80])\n",
        "\n",
        "# Added 3 students to the list\n",
        "class_list.student_add(\"Bob\", 76)\n",
        "class_list.student_add(\"Katie\", 90)\n",
        "class_list.student_add(\"Charles\", 85)\n",
        "\n",
        "# Grade summary\n",
        "class_list.grade_summary()\n",
        "\n",
        "# Top student\n",
        "class_list.top_student()\n",
        "\n",
        "# Update a student's grade\n",
        "class_list.grade_update(\"Annie\", 95)\n",
        "class_list.grade_summary()\n"
      ],
      "metadata": {
        "colab": {
          "base_uri": "https://localhost:8080/"
        },
        "id": "t87J7B0f7ZmL",
        "outputId": "04208738-0e5d-4917-e75f-ba2b30ca206b"
      },
      "execution_count": null,
      "outputs": [
        {
          "output_type": "stream",
          "name": "stdout",
          "text": [
            "You added Annie with a grade of 80 to the student list.\n",
            "You added Bob with a grade of 76 to the student list.\n",
            "You added Katie with a grade of 90 to the student list.\n",
            "You added Charles with a grade of 85 to the student list.\n",
            "The average of the student grades is 82.75, the minimum grade is 76, the maximum grade is 90.\n",
            "The top student(s): Katie with a grade of 90.\n",
            "Updated Annie's grade to 95.\n",
            "The average of the student grades is 86.50, the minimum grade is 76, the maximum grade is 95.\n"
          ]
        }
      ]
    },
    {
      "cell_type": "code",
      "source": [],
      "metadata": {
        "id": "Cjf3m2yL--Ru"
      },
      "execution_count": null,
      "outputs": []
    }
  ]
}