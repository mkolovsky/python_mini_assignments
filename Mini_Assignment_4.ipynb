{
  "nbformat": 4,
  "nbformat_minor": 0,
  "metadata": {
    "colab": {
      "provenance": []
    },
    "kernelspec": {
      "name": "python3",
      "display_name": "Python 3"
    }
  },
  "cells": [
    {
      "cell_type": "markdown",
      "metadata": {
        "id": "FNKvy8F7d9gu"
      },
      "source": [
        "#Mini Assignment 4. Function\n",
        "Please add one code cell after each question and create a program to answer the question. Make sure your code runs without error. After you are finished, click on File -> Print -> Save as PDF to create a PDF output and upload it on Brightspace.\n",
        "\n",
        "NOTE: Make sure your PDF does not have your name or any identifying information in the name or content of the file. Anonymity is essential for the peer-review process."
      ]
    },
    {
      "cell_type": "markdown",
      "metadata": {
        "id": "J-rEBnl7R7XI"
      },
      "source": [
        "##Pre-defined function"
      ]
    },
    {
      "cell_type": "markdown",
      "metadata": {
        "id": "2S5cppZHNL2L"
      },
      "source": [
        "1. Use [zip()](https://docs.python.org/3.3/library/functions.html#zip) function on the fname and lname lists to create fullname list. Then use the [sorted()](https://docs.python.org/3.3/library/functions.html#sorted) function to return the names sorted alphabetically."
      ]
    },
    {
      "cell_type": "code",
      "metadata": {
        "id": "4gKuEYY1UVki"
      },
      "source": [
        "fname = ['Ashkan', 'Alex', 'Zamir', 'Xin']\n",
        "lname = ['Sani', 'Wolkof', 'Zaman', 'Lee']\n"
      ],
      "execution_count": null,
      "outputs": []
    },
    {
      "cell_type": "code",
      "source": [
        "def fullname_list(fname, lname):\n",
        "  zipped_list = zip(fname, lname)\n",
        "  sorted_list = sorted(zipped_list)\n",
        "  return sorted_list\n",
        "\n",
        "fullname_list(fname,lname)"
      ],
      "metadata": {
        "colab": {
          "base_uri": "https://localhost:8080/"
        },
        "id": "d5A4gos3SLVC",
        "outputId": "d6063531-f2c7-4ee1-80ea-8ab76a3c39a9"
      },
      "execution_count": null,
      "outputs": [
        {
          "output_type": "execute_result",
          "data": {
            "text/plain": [
              "[('Alex', 'Wolkof'), ('Ashkan', 'Sani'), ('Xin', 'Lee'), ('Zamir', 'Zaman')]"
            ]
          },
          "metadata": {},
          "execution_count": 5
        }
      ]
    },
    {
      "cell_type": "markdown",
      "metadata": {
        "id": "W09LQhRZ_c9U"
      },
      "source": [
        "##User-defined functions\n"
      ]
    },
    {
      "cell_type": "markdown",
      "metadata": {
        "id": "cgHrW-E2C64x"
      },
      "source": [
        "2. What does the following function do? Run the code and see what happens. Why does the code line 5 prints x but the code line 6 results in the \"NameError: name 'x' is not defined\"? Explain in few sentences here."
      ]
    },
    {
      "cell_type": "code",
      "metadata": {
        "id": "uhvLONrHb4NM",
        "colab": {
          "base_uri": "https://localhost:8080/",
          "height": 193
        },
        "outputId": "3225d4f0-40ce-4cba-ab51-7bf7bb2c5a73"
      },
      "source": [
        "def myfunc():\n",
        "\tx = 10\n",
        "\tprint(\"Value inside function:\",x)\n",
        "\n",
        "myfunc()\n",
        "print(\"Value outside function:\",x)"
      ],
      "execution_count": null,
      "outputs": [
        {
          "output_type": "stream",
          "name": "stdout",
          "text": [
            "Value inside function: 10\n"
          ]
        },
        {
          "output_type": "error",
          "ename": "NameError",
          "evalue": "name 'x' is not defined",
          "traceback": [
            "\u001b[0;31m---------------------------------------------------------------------------\u001b[0m",
            "\u001b[0;31mNameError\u001b[0m                                 Traceback (most recent call last)",
            "\u001b[0;32m<ipython-input-6-0a610dc5d09d>\u001b[0m in \u001b[0;36m<cell line: 6>\u001b[0;34m()\u001b[0m\n\u001b[1;32m      4\u001b[0m \u001b[0;34m\u001b[0m\u001b[0m\n\u001b[1;32m      5\u001b[0m \u001b[0mmyfunc\u001b[0m\u001b[0;34m(\u001b[0m\u001b[0;34m)\u001b[0m\u001b[0;34m\u001b[0m\u001b[0;34m\u001b[0m\u001b[0m\n\u001b[0;32m----> 6\u001b[0;31m \u001b[0mprint\u001b[0m\u001b[0;34m(\u001b[0m\u001b[0;34m\"Value outside function:\"\u001b[0m\u001b[0;34m,\u001b[0m\u001b[0mx\u001b[0m\u001b[0;34m)\u001b[0m\u001b[0;34m\u001b[0m\u001b[0;34m\u001b[0m\u001b[0m\n\u001b[0m",
            "\u001b[0;31mNameError\u001b[0m: name 'x' is not defined"
          ]
        }
      ]
    },
    {
      "cell_type": "markdown",
      "source": [
        "The code in line 5 prints x but the code in line 6 is raising an error because it is outside the scope of the function. The first x locally defined within the function. Line 6 has an error because it is outside the scope of the function, therefore not global. In order to fix this issue, you'd have to define x as global within the function."
      ],
      "metadata": {
        "id": "oupTeH4HXDoL"
      }
    },
    {
      "cell_type": "markdown",
      "metadata": {
        "id": "E9UmiIzJJRyF"
      },
      "source": [
        "3. Create a function called sumall that receives two arguments as the start number, and the stop number. The functions should return the sum of all numbers in between the two inclusive. Next, call the function to make sure it works well."
      ]
    },
    {
      "cell_type": "code",
      "source": [
        "def sumall(startnum, stopnum):\n",
        "  sum_num = sum(range(startnum, stopnum+1))\n",
        "  return sum_num\n",
        "\n",
        "sumall(1, 9)"
      ],
      "metadata": {
        "colab": {
          "base_uri": "https://localhost:8080/"
        },
        "id": "u3nhSpRbX3ZX",
        "outputId": "ea2107d3-97af-44ef-b603-73caa2267049"
      },
      "execution_count": null,
      "outputs": [
        {
          "output_type": "execute_result",
          "data": {
            "text/plain": [
              "45"
            ]
          },
          "metadata": {},
          "execution_count": 7
        }
      ]
    },
    {
      "cell_type": "markdown",
      "metadata": {
        "id": "crFXC09UH474"
      },
      "source": [
        "4. Create a function that receives ONE list (only one argument) and returns the list with only items that include any of the vowels in them. Vowels include a, e, i, o, u. Next call the function to make sure it works fine."
      ]
    },
    {
      "cell_type": "code",
      "source": [
        "random_list = ['computer', 'rhythmn', 'treasure', 'moon', 'cry', 'dry', 'gym']\n",
        "\n",
        "def onlyvowels(random_list):\n",
        "  vowel_words = []\n",
        "  for word in random_list:\n",
        "    for letter in word:\n",
        "      if letter in 'AEIOUaeiou':\n",
        "        vowel_words.append(word)\n",
        "        break\n",
        "  return vowel_words\n",
        "\n",
        "onlyvowels(random_list)\n"
      ],
      "metadata": {
        "colab": {
          "base_uri": "https://localhost:8080/"
        },
        "id": "xb31vqN6X4Vx",
        "outputId": "036420c7-5202-4225-c269-e9d21c5db298"
      },
      "execution_count": null,
      "outputs": [
        {
          "output_type": "execute_result",
          "data": {
            "text/plain": [
              "['computer', 'treasure', 'moon']"
            ]
          },
          "metadata": {},
          "execution_count": 8
        }
      ]
    },
    {
      "cell_type": "markdown",
      "metadata": {
        "id": "bbtzNEwzQa7c"
      },
      "source": [
        "## Anonymous functions"
      ]
    },
    {
      "cell_type": "markdown",
      "metadata": {
        "id": "lAqcXZ2NTPZF"
      },
      "source": [
        "5. Use an anonymous function inside the [filter()](https://docs.python.org/3.3/library/functions.html#filter) function to filter namelist for only one-part names in the namelist. Make sure you convert the result to a list if it is not already a list."
      ]
    },
    {
      "cell_type": "code",
      "metadata": {
        "id": "4QlK_VxwP0g_"
      },
      "source": [
        "namelist = ['Arvin', 'John Paul ', 'Mary Jo', 'Kayvan',\n",
        "            'Xinyu', 'Dominique', 'Daniel Dae Kim']\n"
      ],
      "execution_count": null,
      "outputs": []
    },
    {
      "cell_type": "code",
      "source": [
        "list(filter(lambda x: ' ' not in x, namelist))"
      ],
      "metadata": {
        "id": "hN--bsscX5fY",
        "colab": {
          "base_uri": "https://localhost:8080/"
        },
        "outputId": "c54b3dae-3bf7-4566-92f5-3af7fa5b29dc"
      },
      "execution_count": null,
      "outputs": [
        {
          "output_type": "execute_result",
          "data": {
            "text/plain": [
              "['Arvin', 'Kayvan', 'Xinyu', 'Dominique']"
            ]
          },
          "metadata": {},
          "execution_count": 14
        }
      ]
    },
    {
      "cell_type": "markdown",
      "metadata": {
        "id": "94GR6zjTTR-f"
      },
      "source": [
        "6. Use an anonymous function inside the [map()](https://docs.python.org/3.3/library/functions.html#map) function to add 5 units to all the items in numlist. Make sure you convert the result to a list if it is not already a list."
      ]
    },
    {
      "cell_type": "code",
      "source": [
        "numlist = [12, 32, 45, 6, 10, 22, 108]"
      ],
      "metadata": {
        "id": "Hjzjwm9JBzmq"
      },
      "execution_count": null,
      "outputs": []
    },
    {
      "cell_type": "code",
      "source": [
        "list(map(lambda x: x+5, numlist))"
      ],
      "metadata": {
        "id": "B5WHjkhTX6AQ",
        "colab": {
          "base_uri": "https://localhost:8080/"
        },
        "outputId": "b7aed05b-7474-49f7-d663-534f4f7c688d"
      },
      "execution_count": null,
      "outputs": [
        {
          "output_type": "execute_result",
          "data": {
            "text/plain": [
              "[17, 37, 50, 11, 15, 27, 113]"
            ]
          },
          "metadata": {},
          "execution_count": 17
        }
      ]
    }
  ]
}