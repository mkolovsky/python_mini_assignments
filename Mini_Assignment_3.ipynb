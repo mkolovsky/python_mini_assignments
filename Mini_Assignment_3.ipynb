{
  "nbformat": 4,
  "nbformat_minor": 0,
  "metadata": {
    "colab": {
      "provenance": []
    },
    "kernelspec": {
      "name": "python3",
      "display_name": "Python 3"
    }
  },
  "cells": [
    {
      "cell_type": "markdown",
      "metadata": {
        "id": "IGrF-lQOH936"
      },
      "source": [
        "#Mini Assignment 3. Loop and List Comprehension\n",
        "Please add one code cell after each question and create a program to answer the question. Make sure your code runs without error. After you are finished, click on File -> Print -> Save as PDF to create a PDF output and upload it on Brightspace.\n",
        "\n",
        "NOTE: Make sure your PDF does not have your name or any identifying information in the name or content of the file. Anonymity is essential for the peer-review process."
      ]
    },
    {
      "cell_type": "markdown",
      "metadata": {
        "id": "O2TZWkYmpr2Q"
      },
      "source": [
        "1. Use for loop and range() function to create a list that includes even numbers from 50 to 100. Next create a list comprehension that does the same."
      ]
    },
    {
      "cell_type": "code",
      "source": [
        "#for loop and range of even list\n",
        "even_list = []\n",
        "for i in range(50,101,2):\n",
        "  even_list.append(i)\n",
        "print(even_list)"
      ],
      "metadata": {
        "colab": {
          "base_uri": "https://localhost:8080/"
        },
        "id": "BYChlh1Q9oRU",
        "outputId": "005ccbdb-5833-4adf-ecd1-a79230749649"
      },
      "execution_count": null,
      "outputs": [
        {
          "output_type": "stream",
          "name": "stdout",
          "text": [
            "[50, 52, 54, 56, 58, 60, 62, 64, 66, 68, 70, 72, 74, 76, 78, 80, 82, 84, 86, 88, 90, 92, 94, 96, 98, 100]\n"
          ]
        }
      ]
    },
    {
      "cell_type": "code",
      "source": [
        "#list comprehension of even list\n",
        "even_list = [i for i in range(50,101,2)]\n",
        "print(even_list)"
      ],
      "metadata": {
        "colab": {
          "base_uri": "https://localhost:8080/"
        },
        "id": "IlylMeWt-H2u",
        "outputId": "e158eca7-021f-49dc-c67d-304e7c6b555b"
      },
      "execution_count": null,
      "outputs": [
        {
          "output_type": "stream",
          "name": "stdout",
          "text": [
            "[50, 52, 54, 56, 58, 60, 62, 64, 66, 68, 70, 72, 74, 76, 78, 80, 82, 84, 86, 88, 90, 92, 94, 96, 98, 100]\n"
          ]
        }
      ]
    },
    {
      "cell_type": "markdown",
      "source": [
        "2. Write a program to get two numbers from the user and creat a list that includes all the numbers between the two that are devisible by 3. Write your program with for loop once and another time with list comprehension."
      ],
      "metadata": {
        "id": "dVkTk5VQyckS"
      }
    },
    {
      "cell_type": "code",
      "source": [
        "#get number 1 and number 2\n",
        "number1 = int(input(\"Enter first number: \"))\n",
        "number2 = int(input(\"Enter second number that is higher than first number: \"))\n",
        "\n",
        "#create list of all numbers between number1 and number2 that are divisible by 3\n",
        "divisible_by_3_list = []\n",
        "for i in range(number1,number2+1):\n",
        "  if i % 3 == 0:\n",
        "    divisible_by_3_list.append(i)\n",
        "print(divisible_by_3_list)\n"
      ],
      "metadata": {
        "colab": {
          "base_uri": "https://localhost:8080/"
        },
        "id": "tonKSei9-Pqm",
        "outputId": "449f7bd8-e329-4df9-f2f8-b260877467db"
      },
      "execution_count": null,
      "outputs": [
        {
          "output_type": "stream",
          "name": "stdout",
          "text": [
            "Enter first number: 10\n",
            "Enter second number that is higher than first number: 79\n",
            "[12, 15, 18, 21, 24, 27, 30, 33, 36, 39, 42, 45, 48, 51, 54, 57, 60, 63, 66, 69, 72, 75, 78]\n"
          ]
        }
      ]
    },
    {
      "cell_type": "code",
      "source": [
        "#number 1 and number 2 list comprehension\n",
        "number1 = int(input(\"Enter first number: \"))\n",
        "number2 = int(input(\"Enter second number that is higher than first number: \"))\n",
        "\n",
        "divisible_by_3_list = [i for i in range(number1,number2+1) if i % 3 == 0]\n",
        "print(divisible_by_3_list)"
      ],
      "metadata": {
        "colab": {
          "base_uri": "https://localhost:8080/"
        },
        "id": "qDAdEpCT-9x6",
        "outputId": "4ca68bad-2954-4d40-8139-85c0a9682a63"
      },
      "execution_count": null,
      "outputs": [
        {
          "output_type": "stream",
          "name": "stdout",
          "text": [
            "Enter first number: 10\n",
            "Enter second number that is higher than first number: 105\n",
            "[12, 15, 18, 21, 24, 27, 30, 33, 36, 39, 42, 45, 48, 51, 54, 57, 60, 63, 66, 69, 72, 75, 78, 81, 84, 87, 90, 93, 96, 99, 102, 105]\n"
          ]
        }
      ]
    },
    {
      "cell_type": "markdown",
      "source": [
        "3. Create a game robot named \"Burnie\". Burnie randomly selects a number between 1 and 100 and the user has 6 attempts to guess that number. At each user's guess, burnie tells the user if their guess is correct, or they should go higher or lower."
      ],
      "metadata": {
        "id": "a_Yep05C1hGr"
      }
    },
    {
      "cell_type": "code",
      "source": [
        "#Burnie randomly selects a number\n",
        "import random\n",
        "burnie_number = random.randint(1,100)\n",
        "\n",
        "#user has 6 attempts to guess\n",
        "for i in range(6,0,-1):\n",
        "  user_guess = int(input(f\"Burnie has randomly selected a number between 1 and 100. Guesses left: {i}. Please input your number:\"))\n",
        "  if user_guess == burnie_number:\n",
        "    print(\"You guessed Burnie's number!\")\n",
        "    break\n",
        "  elif user_guess > burnie_number:\n",
        "    print(\"Burnie's number is lower than your guess. Try again.\")\n",
        "  else:\n",
        "    print(\"Burnie's number is higher than your guess. Try again.\")\n",
        "else:\n",
        "  print(\"You ran out of tries. Burnie's number was\", burnie_number)"
      ],
      "metadata": {
        "colab": {
          "base_uri": "https://localhost:8080/"
        },
        "id": "LTA7mybz-VPw",
        "outputId": "71f610d9-f633-4dbc-da2f-0cbc9b6341ea"
      },
      "execution_count": null,
      "outputs": [
        {
          "output_type": "stream",
          "name": "stdout",
          "text": [
            "Burnie has randomly selected a number between 1 and 100. Guesses left: 6. Please input your number:78\n",
            "Burnie's number is lower than your guess. Try again.\n",
            "Burnie has randomly selected a number between 1 and 100. Guesses left: 5. Please input your number:50\n",
            "Burnie's number is higher than your guess. Try again.\n",
            "Burnie has randomly selected a number between 1 and 100. Guesses left: 4. Please input your number:60\n",
            "Burnie's number is higher than your guess. Try again.\n",
            "Burnie has randomly selected a number between 1 and 100. Guesses left: 3. Please input your number:65\n",
            "Burnie's number is higher than your guess. Try again.\n",
            "Burnie has randomly selected a number between 1 and 100. Guesses left: 2. Please input your number:69\n",
            "Burnie's number is higher than your guess. Try again.\n",
            "Burnie has randomly selected a number between 1 and 100. Guesses left: 1. Please input your number:70\n",
            "Burnie's number is higher than your guess. Try again.\n",
            "You ran out of tries. Burnie's number was 76\n"
          ]
        }
      ]
    },
    {
      "cell_type": "markdown",
      "source": [
        "4. Write a program to receive a movie genre from the user and creats **a list** of movie names from the dictionary below that include that specific genre. For instance, if the user inputs 'action', the program should display this list: ['Inception', 'Dark Knight', 'Gladiator']\n",
        "\n",
        " Write your program once with for loop and another time with list comprehension."
      ],
      "metadata": {
        "id": "GsFzh9N_-ekF"
      }
    },
    {
      "cell_type": "code",
      "source": [
        "movies = {\n",
        "    'Avatar':'Asabeneh',\n",
        "    'Godfather':'crime|drama',\n",
        "    'Inception':'action|adventure|sci-fi',\n",
        "    'Dark Knight':'action|crime|drama',\n",
        "    'Forrest Gump':'drama|romance',\n",
        "    'Pianist':'biography|drama|music',\n",
        "    'Back to the Future':'comedy|adventure|sci-fi',\n",
        "    'Interstellar': 'comedy|adventure|sci-fi',\n",
        "    'The Silence of the Lambs': 'crime|drama|thriller',\n",
        "    'Gladiator':'action|adventure|drama'\n",
        "}"
      ],
      "metadata": {
        "id": "H4eVooaf5eE1"
      },
      "execution_count": null,
      "outputs": []
    },
    {
      "cell_type": "code",
      "source": [
        "#loop list\n",
        "genre_input = input(\"Please enter a movie genre: \")\n",
        "\n",
        "# loop through movies\n",
        "movie_names = []\n",
        "for movie, genres in movies.items():\n",
        "  if genre_input in genres:\n",
        "    movie_names.append(movie)\n",
        "print(movie_names)"
      ],
      "metadata": {
        "colab": {
          "base_uri": "https://localhost:8080/"
        },
        "id": "iW2v-3phDF03",
        "outputId": "ef1fe9f7-f960-44c9-8e5c-6f72223885e4"
      },
      "execution_count": null,
      "outputs": [
        {
          "output_type": "stream",
          "name": "stdout",
          "text": [
            "Please enter a movie genre: drama\n",
            "['Godfather', 'Dark Knight', 'Forrest Gump', 'Pianist', 'The Silence of the Lambs', 'Gladiator']\n"
          ]
        }
      ]
    },
    {
      "cell_type": "code",
      "source": [
        "#list comprehension\n",
        "genre_input = input(\"Please enter a movie genre: \")\n",
        "\n",
        "movie_names = [movie for movie, genres in movies.items() if genre_input in genres]\n",
        "\n",
        "print(movie_names)"
      ],
      "metadata": {
        "colab": {
          "base_uri": "https://localhost:8080/"
        },
        "id": "JR50oxglGlMv",
        "outputId": "7e92a2d1-96f7-44c4-e571-cc7bceba4af5"
      },
      "execution_count": null,
      "outputs": [
        {
          "output_type": "stream",
          "name": "stdout",
          "text": [
            "Please enter a movie genre: action\n",
            "['Inception', 'Dark Knight', 'Gladiator']\n"
          ]
        }
      ]
    },
    {
      "cell_type": "code",
      "source": [],
      "metadata": {
        "id": "QfvYzt8EITEt"
      },
      "execution_count": null,
      "outputs": []
    }
  ]
}