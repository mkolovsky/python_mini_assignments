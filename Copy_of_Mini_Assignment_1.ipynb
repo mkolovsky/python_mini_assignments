{
  "nbformat": 4,
  "nbformat_minor": 0,
  "metadata": {
    "colab": {
      "provenance": []
    },
    "kernelspec": {
      "name": "python3",
      "display_name": "Python 3"
    }
  },
  "cells": [
    {
      "cell_type": "markdown",
      "metadata": {
        "id": "FNKvy8F7d9gu"
      },
      "source": [
        "#Mini Assignment 1: Data Structures\n",
        "\n",
        "This copy is non-editable. To create your own copy, go to File -> Save a copy in Drive. That makes an editable copy of your own that is stored in your Google Drive.\n",
        "\n",
        "Please add only one code cell after each question and create a program to answer the question. Make sure your code runs without error. After you are finished, run your code to display the output, then click on File -> Print -> Save as PDF to create a PDF output and upload it on Brightspace.\n",
        "\n",
        "**NOTE:** Make sure your PDF does not have your name or any identifying information in the name or content of the file. Anonymity is essential for the peer-review process."
      ]
    },
    {
      "cell_type": "markdown",
      "metadata": {
        "id": "pmvEKjcId8Ym"
      },
      "source": [
        "##List\n"
      ]
    },
    {
      "cell_type": "markdown",
      "metadata": {
        "id": "PdEkSe5UPy26"
      },
      "source": [
        "1. Run below code to create three variables each including a list with a first name, last name, and birth-year."
      ]
    },
    {
      "cell_type": "code",
      "source": [
        "a = ['Xin', 'Zhu', '1990']\n",
        "b = ['Sara', 'Capenter', '1991']\n",
        "c = ['Mara', 'Singh', '1999']"
      ],
      "metadata": {
        "id": "GKqcA7nIdpB-"
      },
      "execution_count": null,
      "outputs": []
    },
    {
      "cell_type": "markdown",
      "metadata": {
        "id": "Q841SQJjHAnl"
      },
      "source": [
        "2. Create the code that combines the above three variables into a new list that includes all the items of the three previous lists. The new list should have nine items."
      ]
    },
    {
      "cell_type": "code",
      "source": [
        "abc = a + b + c\n",
        "print(abc)"
      ],
      "metadata": {
        "colab": {
          "base_uri": "https://localhost:8080/"
        },
        "id": "e31ffKIcjT8Z",
        "outputId": "234fafa7-a17e-45fd-a06b-f32bb458459a"
      },
      "execution_count": null,
      "outputs": [
        {
          "output_type": "stream",
          "name": "stdout",
          "text": [
            "['Xin', 'Zhu', '1990', 'Sara', 'Capenter', '1991', 'Mara', 'Singh', '1999']\n"
          ]
        }
      ]
    },
    {
      "cell_type": "markdown",
      "metadata": {
        "id": "gwr-R--hK1xD"
      },
      "source": [
        "3. Print the last three items in the list. Make sure you use slicing technique."
      ]
    },
    {
      "cell_type": "code",
      "source": [
        "print(abc[-3:])"
      ],
      "metadata": {
        "colab": {
          "base_uri": "https://localhost:8080/"
        },
        "id": "Pz8fpEps4b_a",
        "outputId": "686a60c9-6ad0-4760-be79-7f2fa5f2f338"
      },
      "execution_count": null,
      "outputs": [
        {
          "output_type": "stream",
          "name": "stdout",
          "text": [
            "['Mara', 'Singh', '1999']\n"
          ]
        }
      ]
    },
    {
      "cell_type": "markdown",
      "metadata": {
        "id": "YBUIUnOCLGQs"
      },
      "source": [
        "4. Print a list including the first names of the three people. Make sure you use slicing technique."
      ]
    },
    {
      "cell_type": "code",
      "source": [
        "print(abc[::3])"
      ],
      "metadata": {
        "colab": {
          "base_uri": "https://localhost:8080/"
        },
        "id": "p-dT1D6z4kuH",
        "outputId": "f6c1aa42-5522-4ca8-99eb-2f8d692be0c4"
      },
      "execution_count": null,
      "outputs": [
        {
          "output_type": "stream",
          "name": "stdout",
          "text": [
            "['Xin', 'Sara', 'Mara']\n"
          ]
        }
      ]
    },
    {
      "cell_type": "markdown",
      "metadata": {
        "id": "40f_nYrXPypc"
      },
      "source": [
        "5. Create a nested list that includes the three initial lists you created on the first step. It means your new nested list should have three items each of which is a list."
      ]
    },
    {
      "cell_type": "code",
      "source": [
        "nested_list = [a, b, c]\n",
        "print(nested_list)"
      ],
      "metadata": {
        "colab": {
          "base_uri": "https://localhost:8080/"
        },
        "id": "HKaYJG3i5nXH",
        "outputId": "e59b5691-fdb2-4d42-d4ea-9d6ed7981aa1"
      },
      "execution_count": null,
      "outputs": [
        {
          "output_type": "stream",
          "name": "stdout",
          "text": [
            "[['Xin', 'Zhu', '1990'], ['Sara', 'Capenter', '1991'], ['Mara', 'Singh', '1999']]\n"
          ]
        }
      ]
    },
    {
      "cell_type": "markdown",
      "metadata": {
        "id": "dS4kOr_0Qs54"
      },
      "source": [
        "6. Print the information for the last two people from the nested list. Make sure you use slicing technique.\n"
      ]
    },
    {
      "cell_type": "code",
      "source": [
        "print(nested_list[-2:])"
      ],
      "metadata": {
        "colab": {
          "base_uri": "https://localhost:8080/"
        },
        "id": "6gvMWC_26fOf",
        "outputId": "49989612-87a7-4ad2-c98d-d9efb49c83cb"
      },
      "execution_count": null,
      "outputs": [
        {
          "output_type": "stream",
          "name": "stdout",
          "text": [
            "[['Sara', 'Capenter', '1991'], ['Mara', 'Singh', '1999']]\n"
          ]
        }
      ]
    },
    {
      "cell_type": "markdown",
      "metadata": {
        "id": "MIaDqQaXMOFF"
      },
      "source": [
        "7. Print the first name and second name of the second person from the nested list. Make sure you use slicing technique."
      ]
    },
    {
      "cell_type": "code",
      "source": [
        "print(nested_list[1][:2])"
      ],
      "metadata": {
        "colab": {
          "base_uri": "https://localhost:8080/"
        },
        "id": "yD-rVjzX7HaQ",
        "outputId": "001a8e77-21f5-441a-8c38-1a8c8ddd82a4"
      },
      "execution_count": null,
      "outputs": [
        {
          "output_type": "stream",
          "name": "stdout",
          "text": [
            "['Sara', 'Capenter']\n"
          ]
        }
      ]
    },
    {
      "cell_type": "markdown",
      "metadata": {
        "id": "HcHQCvLWCesR"
      },
      "source": [
        "8. Create and store a new list that has first name, last name and birth_year of a fourth person. Then, add this new list to your previous nested list of three people."
      ]
    },
    {
      "cell_type": "code",
      "source": [
        "new_list = ['Jon', 'Snow', '1988']\n",
        "nested_list.append(new_list)\n",
        "print(nested_list)"
      ],
      "metadata": {
        "colab": {
          "base_uri": "https://localhost:8080/"
        },
        "id": "stH-XMuC9KmD",
        "outputId": "b39bd04d-683f-456b-d0d1-232cb963d85c"
      },
      "execution_count": null,
      "outputs": [
        {
          "output_type": "stream",
          "name": "stdout",
          "text": [
            "[['Xin', 'Zhu', '1990'], ['Sara', 'Capenter', '1991'], ['Mara', 'Singh', '1999'], ['Jon', 'Snow', '1988']]\n"
          ]
        }
      ]
    },
    {
      "cell_type": "markdown",
      "metadata": {
        "id": "OU14C0aY-RwP"
      },
      "source": [
        "##Dictionary\n"
      ]
    },
    {
      "cell_type": "markdown",
      "metadata": {
        "id": "0blDytMFbVnR"
      },
      "source": [
        "9. Create and store a dictionary that includes first name, last name, age, city of residency, job, and like that of a person. Use a proper key name for each value."
      ]
    },
    {
      "cell_type": "code",
      "source": [
        "new_dict = {\n",
        "    'fname':'Jesse',\n",
        "    'lname':'Castle',\n",
        "    'age':'30',\n",
        "    'city of residency':'LA',\n",
        "    'job':'Data Analyst'\n",
        "}"
      ],
      "metadata": {
        "id": "0UeMXjIJOjwi"
      },
      "execution_count": null,
      "outputs": []
    },
    {
      "cell_type": "markdown",
      "metadata": {
        "id": "7zbTWO0DbiZ0"
      },
      "source": [
        "10. Print the last name of the person from the dictionary."
      ]
    },
    {
      "cell_type": "code",
      "source": [
        "print(new_dict['lname'])"
      ],
      "metadata": {
        "colab": {
          "base_uri": "https://localhost:8080/"
        },
        "id": "eJ7qdcMRQZAQ",
        "outputId": "26c72b86-e6a0-49a2-9383-729bc983feb8"
      },
      "execution_count": null,
      "outputs": [
        {
          "output_type": "stream",
          "name": "stdout",
          "text": [
            "Castle\n"
          ]
        }
      ]
    },
    {
      "cell_type": "markdown",
      "metadata": {
        "id": "VH5YI7-FcKdk"
      },
      "source": [
        "11. Change the city of residence in the dictionary to denver."
      ]
    },
    {
      "cell_type": "code",
      "source": [
        "new_dict.update({'city of residency':'Denver'})\n",
        "print(new_dict)"
      ],
      "metadata": {
        "colab": {
          "base_uri": "https://localhost:8080/"
        },
        "id": "hkOmsLhnTyKf",
        "outputId": "1851b794-6399-4c1b-dd0a-b2082120366c"
      },
      "execution_count": null,
      "outputs": [
        {
          "output_type": "stream",
          "name": "stdout",
          "text": [
            "{'fname': 'Jesse', 'lname': 'Castle', 'age': '30', 'city of residency': 'Denver', 'job': 'Data Analyst'}\n"
          ]
        }
      ]
    },
    {
      "cell_type": "markdown",
      "metadata": {
        "id": "n_z2pUIEU36G"
      },
      "source": [
        "12. Add a new piece of info for the person to the dictionary, like favorite color."
      ]
    },
    {
      "cell_type": "code",
      "source": [
        "new_dict.update({'favorite color':'orange'})\n",
        "print(new_dict)"
      ],
      "metadata": {
        "id": "QYj9hYS1U_J0",
        "colab": {
          "base_uri": "https://localhost:8080/"
        },
        "outputId": "82eec8c3-3218-4d3c-ef2d-ebe25025fd73"
      },
      "execution_count": null,
      "outputs": [
        {
          "output_type": "stream",
          "name": "stdout",
          "text": [
            "{'fname': 'Jesse', 'lname': 'Castle', 'age': '30', 'city of residency': 'Denver', 'job': 'Data Analyst', 'favorite color': 'orange'}\n"
          ]
        }
      ]
    },
    {
      "cell_type": "markdown",
      "metadata": {
        "id": "x7zZhVaQeijC"
      },
      "source": [
        "13. Use keys() , values(), and items() methods to return the keys, values, and items in your dictionary."
      ]
    },
    {
      "cell_type": "code",
      "source": [
        "new_dict.keys()\n",
        "new_dict.values()\n",
        "new_dict.items()"
      ],
      "metadata": {
        "colab": {
          "base_uri": "https://localhost:8080/"
        },
        "id": "vZyAcpdCv5gS",
        "outputId": "aa46d54e-b2b2-4c41-f07e-fc7d5866a2d8"
      },
      "execution_count": null,
      "outputs": [
        {
          "output_type": "execute_result",
          "data": {
            "text/plain": [
              "dict_items([('fname', 'Jesse'), ('lname', 'Castle'), ('age', '30'), ('city of residency', 'Denver'), ('job', 'Data Analyst'), ('favorite color', 'orange')])"
            ]
          },
          "metadata": {},
          "execution_count": 13
        }
      ]
    },
    {
      "cell_type": "markdown",
      "metadata": {
        "id": "WLhw7nhL-WhG"
      },
      "source": [
        "##Set"
      ]
    },
    {
      "cell_type": "markdown",
      "metadata": {
        "id": "wi_vX9KxfnxJ"
      },
      "source": [
        "14. Create and store a set including different datatypes. Put some duplicate values in the set. Print the set to see the result."
      ]
    },
    {
      "cell_type": "code",
      "source": [
        "new_set = {1, 2, 1, 'cookie', 2.4}\n",
        "print(new_set)"
      ],
      "metadata": {
        "colab": {
          "base_uri": "https://localhost:8080/"
        },
        "id": "JvZP1_fBv62e",
        "outputId": "5aa4be0c-7460-44d9-b70c-fdb624d945a9"
      },
      "execution_count": null,
      "outputs": [
        {
          "output_type": "stream",
          "name": "stdout",
          "text": [
            "{1, 2, 2.4, 'cookie'}\n"
          ]
        }
      ]
    },
    {
      "cell_type": "markdown",
      "metadata": {
        "id": "xY8DjwwRBE8U"
      },
      "source": [
        "15. **Challenge:** create a list that includes unique items of the two following lists."
      ]
    },
    {
      "cell_type": "code",
      "metadata": {
        "id": "PJd6XxObMpE8"
      },
      "source": [
        "listone=[1,2,3,4,5,6,7]\n",
        "listtwo=[4,5,6,7,8,9,10]"
      ],
      "execution_count": null,
      "outputs": []
    },
    {
      "cell_type": "code",
      "source": [
        "#convert lists to two sets\n",
        "set1 = set(listone)\n",
        "set2 = set(listtwo)\n",
        "\n",
        "#union operation to combine unique elements\n",
        "unique_items = set1 | set2\n",
        "\n",
        "#print results\n",
        "print(unique_items)"
      ],
      "metadata": {
        "colab": {
          "base_uri": "https://localhost:8080/"
        },
        "id": "Du82zEYp0RRu",
        "outputId": "5feab2d9-4b5b-4b72-a747-edb69af898b1"
      },
      "execution_count": null,
      "outputs": [
        {
          "output_type": "stream",
          "name": "stdout",
          "text": [
            "{1, 2, 3, 4, 5, 6, 7, 8, 9, 10}\n"
          ]
        }
      ]
    }
  ]
}