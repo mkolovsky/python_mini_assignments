{
 "cells": [
  {
   "cell_type": "markdown",
   "metadata": {
    "id": "IGrF-lQOH936"
   },
   "source": [
    "#Mini Assignment 2. Decision Structures\n"
   ]
  },
  {
   "cell_type": "markdown",
   "metadata": {
    "id": "zqluqfAj6TNe"
   },
   "source": [
    "1. Write a program that specifies if a year (entered by user) is a leap year. Leap years have an extra day, Feb 29. A year is a leap year if it satisfies BOTH the following rules:\n",
    "\n",
    "* A year may be a leap year if it is divisible by 4.\n",
    "* Years that are divisible by 100 (century years such as 1900 or 2000) cannot be leap years unless they are also divisible by 400. (For this reason, the years 1700, 1800, and 1900 were not leap years, but the years 1600 and 2000 were.)"
   ]
  },
  {
   "cell_type": "code",
   "execution_count": 8,
   "metadata": {
    "colab": {
     "base_uri": "https://localhost:8080/"
    },
    "id": "8fDBBgJa3XcF",
    "outputId": "34d71194-4e35-4e21-e7d5-55c81d7827a8"
   },
   "outputs": [
    {
     "name": "stdin",
     "output_type": "stream",
     "text": [
      "Please enter a year:  2024\n"
     ]
    },
    {
     "name": "stdout",
     "output_type": "stream",
     "text": [
      "Yay, 2024 is a leap year\n"
     ]
    }
   ],
   "source": [
    "year = int(input(\"Please enter a year: \"))\n",
    "\n",
    "#check to see if it's a leap year\n",
    "if year % 4 == 0:\n",
    "  if year % 100 == 0:\n",
    "    if year % 400 == 0: #satisfies both conditions\n",
    "      print(f\"Yay, {year} is a leap year!\")\n",
    "    else: #not divisible by 400\n",
    "      print(f\"Nope, {year} is not a leap year\")\n",
    "  else: #not divisible by 100\n",
    "    print(f\"Yay, {year} is a leap year\")\n",
    "else: #not divisible by 4\n",
    "  print(f\"Sorry, {year} is not a leap year\")\n"
   ]
  },
  {
   "cell_type": "markdown",
   "metadata": {
    "id": "jeosrMMhzPmo"
   },
   "source": [
    "2. Write a program to ask for three numbers from user and then prints them sorted from largest to smallest. Make sure to use if structure in the solution. You can have extra solutions without if as well."
   ]
  },
  {
   "cell_type": "code",
   "execution_count": 9,
   "metadata": {
    "colab": {
     "base_uri": "https://localhost:8080/"
    },
    "id": "0TC2bGbUY9oM",
    "outputId": "71c2886a-126c-42d3-c9c2-6e1eef0b16b3"
   },
   "outputs": [
    {
     "name": "stdin",
     "output_type": "stream",
     "text": [
      "Please enter a number:  23\n",
      "Please enter a different number:  34\n",
      "Please enter a different number:  45\n"
     ]
    },
    {
     "name": "stdout",
     "output_type": "stream",
     "text": [
      "From largest to smallest: 45, 34, 23\n"
     ]
    }
   ],
   "source": [
    "#ask for 3 numbers from input\n",
    "number1 = int(input(\"Please enter a number: \"))\n",
    "number2 = int(input(\"Please enter a different number: \"))\n",
    "number3 = int(input(\"Please enter a different number: \"))\n",
    "\n",
    "#sort from largest to smallest\n",
    "if number1 > number2 and number1 > number3: #number1 is largest\n",
    "  if number2 > number3:\n",
    "    print(f\"From largest to smallest: {number1}, {number2}, {number3}\")\n",
    "  else: #if number3 > number2\n",
    "    print(f\"From largest to smallest: {number1}, {number3}, {number2}\")\n",
    "\n",
    "if number2 > number1 and number2 > number3: #number2 is largest\n",
    "  if number1 > number3:\n",
    "    print(f\"From largest to smallest: {number2}, {number1}, {number3}\")\n",
    "  else: #if number3 > number1\n",
    "    print(f\"From largest to smallest: {number2}, {number3}, {number1}\")\n",
    "\n",
    "if number3 > number1 and number3 > number2: #number3 is largest\n",
    "  if number1 > number2:\n",
    "    print(f\"From largest to smallest: {number3}, {number1}, {number2}\")\n",
    "  else: #if number2 > number1\n",
    "    print(f\"From largest to smallest: {number3}, {number2}, {number1}\")\n"
   ]
  },
  {
   "cell_type": "markdown",
   "metadata": {
    "id": "J6TufRtKGpfG"
   },
   "source": [
    "3. Write a program that plays Rock, Paper, Scissors with user. The user should enter r, p, or s to make identify their choice. The program makes its choice by randomly selecting one of the three items and printing it for the user. Then the program should evaluate the choices and announce the winner.\n",
    "\n",
    " Note: you may import and use the [choice() function](https://www.w3schools.com/python/ref_random_choice.asp) from the 'random' library to have the program randomly select one of the three items."
   ]
  },
  {
   "cell_type": "code",
   "execution_count": 10,
   "metadata": {
    "colab": {
     "base_uri": "https://localhost:8080/"
    },
    "id": "FeIf5-ni3Yh8",
    "outputId": "cffd0d56-f87a-4994-cd2d-d00ebdf97189"
   },
   "outputs": [
    {
     "name": "stdin",
     "output_type": "stream",
     "text": [
      "Please enter r, p, or s to start the game:  p\n"
     ]
    },
    {
     "name": "stdout",
     "output_type": "stream",
     "text": [
      "Aww...s. You lose!\n"
     ]
    }
   ],
   "source": [
    "#import library\n",
    "from random import choice\n",
    "user_hand = input(\"Please enter r, p, or s to start the game: \")\n",
    "\n",
    "#we choose paper\n",
    "if user_hand == \"p\":\n",
    "  opponent_hand = choice([\"r\", \"p\", \"s\"])\n",
    "  if opponent_hand == \"r\":\n",
    "    print(f\"And it's...{opponent_hand}. You win!\")\n",
    "  elif opponent_hand == \"p\":\n",
    "    print(f\"{opponent_hand}. It's a tie!\")\n",
    "  else: #opponent_hand == \"s\"\n",
    "    print(f\"Aww...{opponent_hand}. You lose!\")\n",
    "\n",
    "#we choose rock\n",
    "if user_hand == \"r\":\n",
    "  opponent_hand = choice([\"r\", \"p\", \"s\"])\n",
    "  if opponent_hand == \"r\":\n",
    "    print(f\"And it's...{opponent_hand}. It's a tie!\")\n",
    "  elif opponent_hand == \"p\":\n",
    "    print(f\"{opponent_hand}. Too bad!\")\n",
    "  else: #opponent_hand == \"s\"\n",
    "    print(f\"{opponent_hand}. Winner!!!\")\n",
    "\n",
    "#we choose scissors\n",
    "if user_hand == \"s\":\n",
    "  opponent_hand = choice([\"r\", \"p\", \"s\"])\n",
    "  if opponent_hand == \"r\":\n",
    "    print(f\"{opponent_hand}. You lose!\")\n",
    "  elif opponent_hand == \"p\":\n",
    "    print(f\"They got {opponent_hand}. You win!\")\n",
    "  else: #opponent_hand == \"s\"\n",
    "    print(f\"Aw...{opponent_hand}. It's a tie!\")\n"
   ]
  },
  {
   "cell_type": "markdown",
   "metadata": {
    "id": "WlKVeRk_-FzH"
   },
   "source": [
    "4. Write a program that plays Field Roll with user. It should ask user if they want to roll. If the answer is yes, the program rolls two dices and randomly selects and displays two numbers from 1 to 6 to represent the two dices. Then the program should display if the user wins and gets a payout, or loses. The rule is that if the sum of two dices equals 2 or 12, the user is paid twice the bet. If the sum equals 3, 4, 9, 10 or 11, the user takes their bet money back; everything else they lose their bet."
   ]
  },
  {
   "cell_type": "code",
   "execution_count": 12,
   "metadata": {
    "colab": {
     "base_uri": "https://localhost:8080/"
    },
    "id": "JyyXoZ7e3ZFT",
    "outputId": "c502654f-b4a9-4775-c124-34b47f126873"
   },
   "outputs": [
    {
     "name": "stdin",
     "output_type": "stream",
     "text": [
      "Do you want to play?  yes\n",
      "Please enter your bet:  13\n"
     ]
    },
    {
     "name": "stdout",
     "output_type": "stream",
     "text": [
      "You rolled 6 and 4\n",
      "Your sum of 10 is either 3, 4, 9, 10, or 11. Take your bet of 13 back.\n"
     ]
    }
   ],
   "source": [
    "#import library\n",
    "from random import choice\n",
    "\n",
    "#ask user if they want to roll\n",
    "play = input(\"Do you want to play? \")\n",
    "\n",
    "#check if the user wants to play\n",
    "if play == \"yes\":\n",
    "  bet = int(input('Please enter your bet: '))\n",
    "\n",
    "  #roll 2 die\n",
    "  roll1 = choice([1, 2, 3, 4, 5, 6])\n",
    "  roll2 = choice([1, 2, 3, 4, 5, 6])\n",
    "  sum = roll1 + roll2\n",
    "  print(f\"You rolled {roll1} and {roll2}\")\n",
    "\n",
    "  #check to see who won\n",
    "  if sum == 2 or sum == 12:\n",
    "    bet * 2\n",
    "    print(f\"Your sum of {sum} is either 2 or 12. You won! You get {bet * 2}\")\n",
    "  elif sum == 3 or sum == 4 or sum == 9 or sum == 10 or sum == 11:\n",
    "    print(f\"Your sum of {sum} is either 3, 4, 9, 10, or 11. Take your bet of {bet} back.\")\n",
    "  else:\n",
    "      print(f\"Your sum of {sum} is either 5, 6, 7, 8. You lose your bet of {bet}\")\n",
    "\n",
    "#check if the user doesn't want to play and print a message\n",
    "elif play == \"no\":\n",
    "  print(\"Come back when you're ready!\")"
   ]
  },
  {
   "cell_type": "code",
   "execution_count": null,
   "metadata": {},
   "outputs": [],
   "source": []
  }
 ],
 "metadata": {
  "colab": {
   "provenance": []
  },
  "kernelspec": {
   "display_name": "Python 3 (ipykernel)",
   "language": "python",
   "name": "python3"
  },
  "language_info": {
   "codemirror_mode": {
    "name": "ipython",
    "version": 3
   },
   "file_extension": ".py",
   "mimetype": "text/x-python",
   "name": "python",
   "nbconvert_exporter": "python",
   "pygments_lexer": "ipython3",
   "version": "3.9.12"
  }
 },
 "nbformat": 4,
 "nbformat_minor": 4
}
